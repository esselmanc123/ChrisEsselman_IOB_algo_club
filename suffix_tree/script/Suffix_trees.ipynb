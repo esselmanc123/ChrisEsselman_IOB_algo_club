{
 "cells": [
  {
   "cell_type": "code",
   "execution_count": 12,
   "id": "e12bfa7e",
   "metadata": {},
   "outputs": [
    {
     "name": "stdout",
     "output_type": "stream",
     "text": [
      "['A' 'T' 'G' 'A' 'T' 'A' 'T' '$']\n"
     ]
    }
   ],
   "source": [
    "import numpy as np\n",
    "\n",
    "# Read in the file\n",
    "with open('../data/Test01minimini.fasta', 'r') as f:\n",
    "    lines = f.readlines()\n",
    "    \n",
    "# Make an empty list\n",
    "holder = []\n",
    "\n",
    "# Put the lines into the numpy array ignoring the first line\n",
    "for i in range(1, len(lines)):\n",
    "    for j in range(len(lines[i])):\n",
    "        # Remove the newline character\n",
    "        if lines[i][j] != \"\\n\":\n",
    "            holder.append(lines[i][j])\n",
    "\n",
    "# Add a dollar sign to the end\n",
    "holder.append('$')\n",
    "# Convert the list into a numpy array\n",
    "seq = np.array(holder)\n",
    "\n",
    "# Print the numpy array\n",
    "print(seq)"
   ]
  },
  {
   "cell_type": "code",
   "execution_count": 11,
   "id": "6ef71863",
   "metadata": {},
   "outputs": [],
   "source": [
    "# Create a node class\n",
    "class Node:\n",
    "    def __init__(self, value):\n",
    "        self.value = value\n",
    "        self.children = []\n",
    "        self.edges = []\n",
    "\n",
    "    def add_child(self, child):\n",
    "        self.children.append(child)\n",
    "\n",
    "    def add_edge(self, edge):\n",
    "        self.edges.append(edge)\n",
    "\n",
    "    def get_children(self):\n",
    "        return self.children\n",
    "\n",
    "    def get_value(self):\n",
    "        return self.value\n",
    "    \n",
    "    def get_edges(self):\n",
    "        return self.edges"
   ]
  },
  {
   "cell_type": "code",
   "execution_count": 14,
   "id": "c8f0e5c2",
   "metadata": {},
   "outputs": [
    {
     "name": "stdout",
     "output_type": "stream",
     "text": [
      "0\n"
     ]
    }
   ],
   "source": [
    "# Create an empty linked list\n",
    "tree = []\n",
    "# Big loop for going through each substring    \n",
    "for i in range(len(seq)):\n",
    "    # Create current substring\n",
    "    substring = seq[i:]\n",
    "    # If the tree is empty create simplest tree\n",
    "    if len(tree) == 0:\n",
    "        # Create root node\n",
    "        tree.append(Node(None))\n",
    "        # Add first child\n",
    "        tree.append(Node(0))\n",
    "        # Add edge\n",
    "        tree[0].add_child(1)\n",
    "        # Add edge label\n",
    "        tree[0].add_edge([0,len(substring)])\n",
    "    else:\n",
    "        # Find the path in the tree that is the longest prefix of the substring"
   ]
  }
 ],
 "metadata": {
  "kernelspec": {
   "display_name": "Python 3 (ipykernel)",
   "language": "python",
   "name": "python3"
  },
  "language_info": {
   "codemirror_mode": {
    "name": "ipython",
    "version": 3
   },
   "file_extension": ".py",
   "mimetype": "text/x-python",
   "name": "python",
   "nbconvert_exporter": "python",
   "pygments_lexer": "ipython3",
   "version": "3.11.5"
  }
 },
 "nbformat": 4,
 "nbformat_minor": 5
}
