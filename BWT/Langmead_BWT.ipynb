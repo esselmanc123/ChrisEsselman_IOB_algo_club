{
 "cells": [
  {
   "cell_type": "code",
   "execution_count": 5,
   "id": "e2aba381-ec93-4c5f-9578-e89ca96cc70e",
   "metadata": {},
   "outputs": [],
   "source": [
    "def rotations(t):\n",
    "    # Return list of rotations of input string t\n",
    "    tt = t * 2\n",
    "    return [ tt[i:i+len(t)] for i in range(0, len(t)) ]\n",
    "\n",
    "def bwm(t):\n",
    "    # Return lexicographically sorted list of t's rotations\n",
    "    return sorted(rotations(t))\n",
    "\n",
    "def bwtViaBwm(t):\n",
    "    # Given T, returns BWT(T) by way of the BWM\n",
    "    return ''.join(map(lambda x: x[-1], bwm(t)))\n",
    "\n"
   ]
  },
  {
   "cell_type": "code",
   "execution_count": 37,
   "id": "becb5440-5d88-4bc8-b516-8b08781ea355",
   "metadata": {},
   "outputs": [
    {
     "data": {
      "text/plain": [
       "['agtttcag$',\n",
       " 'gtttcag$a',\n",
       " 'tttcag$ag',\n",
       " 'ttcag$agt',\n",
       " 'tcag$agtt',\n",
       " 'cag$agttt',\n",
       " 'ag$agtttc',\n",
       " 'g$agtttca',\n",
       " '$agtttcag']"
      ]
     },
     "execution_count": 37,
     "metadata": {},
     "output_type": "execute_result"
    }
   ],
   "source": [
    "test_string = 'agtttcag$'\n",
    "rotations(test_string)"
   ]
  },
  {
   "cell_type": "code",
   "execution_count": 39,
   "id": "0b603552-bf1f-452e-a17e-a2f270857eae",
   "metadata": {},
   "outputs": [
    {
     "data": {
      "text/plain": [
       "['$agtttcag',\n",
       " 'ag$agtttc',\n",
       " 'agtttcag$',\n",
       " 'cag$agttt',\n",
       " 'g$agtttca',\n",
       " 'gtttcag$a',\n",
       " 'tcag$agtt',\n",
       " 'ttcag$agt',\n",
       " 'tttcag$ag']"
      ]
     },
     "execution_count": 39,
     "metadata": {},
     "output_type": "execute_result"
    }
   ],
   "source": [
    "bwm(test_string)"
   ]
  },
  {
   "cell_type": "code",
   "execution_count": 41,
   "id": "2ce03919-f83f-425e-b79c-7b5c8df77768",
   "metadata": {},
   "outputs": [
    {
     "data": {
      "text/plain": [
       "'gc$taattg'"
      ]
     },
     "execution_count": 41,
     "metadata": {},
     "output_type": "execute_result"
    }
   ],
   "source": [
    "bwtViaBwm(test_string)"
   ]
  },
  {
   "cell_type": "code",
   "execution_count": 33,
   "id": "d8efe64a-c564-4f46-9c67-5144e550b110",
   "metadata": {},
   "outputs": [],
   "source": [
    "# Now have functions for reversing the transform\n",
    "def rankBwt(bw):\n",
    "    tots = dict()\n",
    "    ranks = []\n",
    "    for c in bw:\n",
    "        if c not in tots: tots[c] = 0\n",
    "        ranks.append(tots[c])\n",
    "        tots[c] += 1\n",
    "    return ranks,tots\n",
    "\n",
    "def firstCol(tots):\n",
    "    first = {}\n",
    "    totc = 0\n",
    "    for c, count in sorted(tots.items()):\n",
    "        first[c] = (totc, totc + count)\n",
    "        totc += count\n",
    "    return first\n",
    "\n",
    "def reverseBwt(bw):\n",
    "    ranks,tots = rankBwt(bw)\n",
    "    first = firstCol(tots)\n",
    "    rowi = 0\n",
    "    t = '$'\n",
    "    while bw[rowi] != '$':\n",
    "        c = bw[rowi]\n",
    "        t = c + t\n",
    "        rowi = first[c][0] + ranks[rowi]\n",
    "    return t"
   ]
  },
  {
   "cell_type": "code",
   "execution_count": 43,
   "id": "c866eeef-1993-4ebd-85b8-142751948c39",
   "metadata": {},
   "outputs": [
    {
     "data": {
      "text/plain": [
       "'tga$'"
      ]
     },
     "execution_count": 43,
     "metadata": {},
     "output_type": "execute_result"
    }
   ],
   "source": [
    "reverseBwt(test_string)"
   ]
  }
 ],
 "metadata": {
  "kernelspec": {
   "display_name": "Python 3 (ipykernel)",
   "language": "python",
   "name": "python3"
  },
  "language_info": {
   "codemirror_mode": {
    "name": "ipython",
    "version": 3
   },
   "file_extension": ".py",
   "mimetype": "text/x-python",
   "name": "python",
   "nbconvert_exporter": "python",
   "pygments_lexer": "ipython3",
   "version": "3.11.5"
  }
 },
 "nbformat": 4,
 "nbformat_minor": 5
}
