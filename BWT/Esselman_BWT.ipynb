{
 "cells": [
  {
   "cell_type": "code",
   "execution_count": 145,
   "id": "7d5d7dd1-7a7a-42e5-b2fa-2b19c34a4d8c",
   "metadata": {},
   "outputs": [
    {
     "name": "stdout",
     "output_type": "stream",
     "text": [
      "hello$\n"
     ]
    }
   ],
   "source": [
    "# Define the string we will be using\n",
    "string = 'hello'\n",
    "string = string + '$'\n",
    "print(string)"
   ]
  },
  {
   "cell_type": "code",
   "execution_count": 147,
   "id": "8d0455ed-f243-4681-8a3f-695f4891304e",
   "metadata": {},
   "outputs": [],
   "source": [
    "# Make a function that makes the rotations and sorts\n",
    "def rotate_and_sort(string):\n",
    "    # Make a list containing the rotations\n",
    "    rotations_to_return = []\n",
    "    # For loop to add last character at the beginning\n",
    "    rotations_to_return.append(string)\n",
    "    for i in range(len(string)-1):\n",
    "        current_string = rotations_to_return[-1]\n",
    "        rotations_to_return.append(current_string[-1] + current_string[:-1])\n",
    "\n",
    "    return sorted(rotations_to_return)"
   ]
  },
  {
   "cell_type": "code",
   "execution_count": 149,
   "id": "3af925bc-0b54-4567-a3d4-80769354b45a",
   "metadata": {},
   "outputs": [
    {
     "name": "stdout",
     "output_type": "stream",
     "text": [
      "['$hello', 'ello$h', 'hello$', 'llo$he', 'lo$hel', 'o$hell']\n"
     ]
    }
   ],
   "source": [
    "bwt_matrix = rotate_and_sort(string)\n",
    "print(bwt_matrix)"
   ]
  },
  {
   "cell_type": "code",
   "execution_count": 151,
   "id": "0c70a6fa-1991-4dcd-88e4-f10054b5ec04",
   "metadata": {},
   "outputs": [],
   "source": [
    "# Make a function to get the last row of the matrix\n",
    "def get_last_row(bwt_list):\n",
    "    blank_string = ''\n",
    "    for i in range(len(bwt_list)):\n",
    "        blank_string = blank_string + bwt_list[i][-1]\n",
    "\n",
    "    return blank_string"
   ]
  },
  {
   "cell_type": "code",
   "execution_count": 153,
   "id": "6de74a5f-9694-45c3-9fcd-444f5aa1f23b",
   "metadata": {},
   "outputs": [
    {
     "name": "stdout",
     "output_type": "stream",
     "text": [
      "oh$ell\n"
     ]
    }
   ],
   "source": [
    "bwt_transform = get_last_row(bwt_matrix)\n",
    "print(bwt_transform)"
   ]
  },
  {
   "cell_type": "code",
   "execution_count": 155,
   "id": "5e40d8b5-2caa-4b03-b034-7b4b803c8121",
   "metadata": {},
   "outputs": [
    {
     "name": "stdout",
     "output_type": "stream",
     "text": [
      "['$', 'e', 'h', 'l', 'l', 'o']\n"
     ]
    }
   ],
   "source": [
    "# Now it is time to reverse it starting with just the transform\n",
    "test = sorted(bwt_transform)\n",
    "print(test)"
   ]
  },
  {
   "cell_type": "code",
   "execution_count": 157,
   "id": "6cb24578-80c8-42af-a7a2-45b91a3b2c6f",
   "metadata": {},
   "outputs": [],
   "source": [
    "# Reverse this one\n",
    "def reverse_BWT(string):\n",
    "    # First sort the BWT to get the right structure\n",
    "    sorted_column = sorted(string)\n",
    "    # The string to return\n",
    "    original_string = sorted_column[0]\n",
    "    # Indexing variable to use\n",
    "    current_index = 0\n",
    "    while len(original_string) < len(string):\n",
    "        # Add to the orginal string\n",
    "        original_string = string[current_index] + original_string\n",
    "        # Find the instance of that number showing up\n",
    "        character_number = 0\n",
    "        if current_index == 0:\n",
    "            character_number +=1\n",
    "        else: \n",
    "            for i in range(current_index+1):\n",
    "                if string[i] == string[current_index]:\n",
    "                    character_number += 1\n",
    "        character_number_in_sorted_column = 0\n",
    "        current_index_iterator = -1\n",
    "        while character_number_in_sorted_column < character_number:\n",
    "            current_index_iterator += 1\n",
    "            if sorted_column[current_index_iterator] == string[current_index]:\n",
    "                character_number_in_sorted_column += 1\n",
    "        # Update the current index\n",
    "        current_index = current_index_iterator\n",
    "\n",
    "    return original_string       \n",
    "        "
   ]
  },
  {
   "cell_type": "code",
   "execution_count": 159,
   "id": "459b8c0e-14df-4d3f-8a84-474e1ffcbcfb",
   "metadata": {},
   "outputs": [
    {
     "name": "stdout",
     "output_type": "stream",
     "text": [
      "hello$\n"
     ]
    }
   ],
   "source": [
    "reverse = reverse_BWT(bwt_transform)\n",
    "print(reverse)"
   ]
  }
 ],
 "metadata": {
  "kernelspec": {
   "display_name": "Python 3 (ipykernel)",
   "language": "python",
   "name": "python3"
  },
  "language_info": {
   "codemirror_mode": {
    "name": "ipython",
    "version": 3
   },
   "file_extension": ".py",
   "mimetype": "text/x-python",
   "name": "python",
   "nbconvert_exporter": "python",
   "pygments_lexer": "ipython3",
   "version": "3.11.5"
  }
 },
 "nbformat": 4,
 "nbformat_minor": 5
}
